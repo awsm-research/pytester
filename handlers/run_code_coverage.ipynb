{
 "cells": [
  {
   "cell_type": "code",
   "execution_count": 1,
   "id": "e9247c5d",
   "metadata": {},
   "outputs": [],
   "source": [
    "import testing_util_v2\n",
    "import python_terminal_command\n",
    "import pickle\n",
    "import pandas as pd"
   ]
  },
  {
   "cell_type": "code",
   "execution_count": 2,
   "id": "2ab18016",
   "metadata": {},
   "outputs": [],
   "source": [
    "pred_tc_finetune = pickle.load(open('/home/wannita/HDD18TB/active_repo/pyRL/text-to-testcase/save/APPS/codet5-testcase-v2/checkpoint-10000/prediction-5.pkl', 'rb'))\n",
    "pred_tc_ppo_one = pickle.load(open('/home/wannita/HDD18TB/active_repo/pyRL/text-to-testcase/save/APPS/codet5-testcase-v2/checkpoint-10000/PPO_functional-1/step-65/prediction-5.pkl', 'rb'))\n",
    "pred_tc_ppo_multi455 = pickle.load(open('/home/wannita/HDD18TB/active_repo/pyRL/text-to-testcase/save/APPS/codet5-testcase-v2/checkpoint-10000/PPO_functional-2/step-455/prediction-5.pkl', 'rb'))\n",
    "pred_tc_ppo_multi887 = pickle.load(open('/home/wannita/HDD18TB/active_repo/pyRL/text-to-testcase/save/APPS/codet5-testcase-v2/checkpoint-10000/PPO_functional-2/step-887/prediction-5.pkl', 'rb'))\n",
    "pred_tc_ppo_multi72 = pickle.load(open('/home/wannita/HDD18TB/active_repo/pyRL/text-to-testcase/save/APPS/codet5-testcase-v2/checkpoint-10000/PPO_functional-4/step-72/prediction-5.pkl', 'rb'))"
   ]
  },
  {
   "cell_type": "code",
   "execution_count": 3,
   "id": "322a5b2b",
   "metadata": {},
   "outputs": [],
   "source": [
    "df_test = pd.read_csv('/home/wannita/HDD18TB/active_repo/pyRL/text-to-testcase/dataset/APPS_new/apps_test_3765.csv')"
   ]
  },
  {
   "cell_type": "code",
   "execution_count": 4,
   "id": "1120becf",
   "metadata": {},
   "outputs": [],
   "source": [
    "pred_tc_finetune_1 = [t[0] for t in pred_tc_finetune]\n",
    "pred_tc_ppo_one_1 = [t[0] for t in pred_tc_ppo_one]\n",
    "pred_tc_ppo_multi455_1 = [t[0] for t in pred_tc_ppo_multi455]\n",
    "pred_tc_ppo_multi887_1 = [t[0] for t in pred_tc_ppo_multi887]\n",
    "pred_tc_ppo_multi72_1 = [t[0] for t in pred_tc_ppo_multi72]"
   ]
  },
  {
   "cell_type": "code",
   "execution_count": 5,
   "id": "73679eb2",
   "metadata": {},
   "outputs": [],
   "source": [
    "commander = python_terminal_command.PythonTerminalCommand('coverage')"
   ]
  },
  {
   "cell_type": "code",
   "execution_count": null,
   "id": "6351859c",
   "metadata": {},
   "outputs": [],
   "source": [
    "pred_text = pred_tc_ppo_multi72_1\n",
    "# executable\n",
    "tmp_reward, error = testing_util_v2.test_function(prompts=df_test['prompt_code'],\n",
    "                                solutions=df_test['output_solution'], \n",
    "                                testcases=pred_text, \n",
    "                                fn_names=df_test['fn_name'],\n",
    "                                debug=False)\n",
    "for i in range(len(df_test)):\n",
    "\n",
    "    # code coverage\n",
    "    if not error:\n",
    "        script = testing_util_v2.transform_to_input(prompts=df_test['prompt_code'][i],\n",
    "                                    solutions=df_test['output_solution'][i], \n",
    "                                    testcases=pred_text[i], \n",
    "                                    fn_names=df_test['fn_name'][i],\n",
    "                                    filter_syntax=True)\n",
    "        err, coverage_output, executable = commander.process_coverage_test(script)\n",
    "        coverage_score = int(coverage_output.split()[-1][:-1])"
   ]
  },
  {
   "cell_type": "code",
   "execution_count": 21,
   "id": "17e2d0e1",
   "metadata": {},
   "outputs": [],
   "source": [
    "s = '''import sys\n",
    "import io\n",
    "def test_call_solution(input_string):  # pragma: no cover\n",
    "    sys.stdin = io.StringIO(input_string)\n",
    "    captured_output = io.StringIO()\n",
    "    sys.stdout = captured_output\n",
    "    call_solution()\n",
    "    sys.stdin = sys.__stdin__\n",
    "    sys.stdout = sys.__stdout__\n",
    "    actual_output = captured_output.getvalue().strip()\n",
    "    return actual_output\n",
    "def call_solution():\n",
    "    r\"\"\"\n",
    "    Anton has the integer x. He is interested what positive integer, which doesn't exceed x, has the maximum sum of digits.\n",
    "    \n",
    "    Your task is to help Anton and to find the integer that interests him. If there are several such integers, determine the biggest of them. \n",
    "    \n",
    "    \n",
    "    -----Input-----\n",
    "    \n",
    "    The first line contains the positive integer x (1 ≤ x ≤ 10^18) — the integer which Anton has. \n",
    "    \n",
    "    \n",
    "    -----Output-----\n",
    "    \n",
    "    Print the positive integer which doesn't exceed x and has the maximum sum of digits. If there are several such integers, print the biggest of them. Printed integer must not contain leading zeros.\n",
    "    \n",
    "    \n",
    "    -----Examples-----\n",
    "    Input\n",
    "    100\n",
    "    \n",
    "    Output\n",
    "    99\n",
    "    \n",
    "    Input\n",
    "    48\n",
    "    \n",
    "    Output\n",
    "    48\n",
    "    \n",
    "    Input\n",
    "    521\n",
    "    \n",
    "    Output\n",
    "    499\n",
    "    \"\"\"\n",
    "    num = list(map(int, input()))\n",
    "    best = num[:]\n",
    "    for i in range(-1, -len(num) - 1, -1):\n",
    "        if num[i] == 0:\n",
    "            continue\n",
    "        num[i] -= 1\n",
    "        for j in range(i + 1, 0):\n",
    "            num[j] = 9\n",
    "        if sum(num) > sum(best):\n",
    "            best = num[:]\n",
    "    s = ''.join(map(str, best)).lstrip('0')\n",
    "    print(s)\n",
    "\n",
    "# check the correctness of the `call_solution` function\n",
    "assert test_call_solution('99') == \"99\"'''"
   ]
  },
  {
   "cell_type": "code",
   "execution_count": 22,
   "id": "41527cab",
   "metadata": {},
   "outputs": [],
   "source": [
    "err, output, executable = commander.process_coverage_test(s)"
   ]
  },
  {
   "cell_type": "code",
   "execution_count": 23,
   "id": "563b8053",
   "metadata": {},
   "outputs": [
    {
     "name": "stdout",
     "output_type": "stream",
     "text": [
      "error: \n",
      "executable: True\n",
      "output: Name              Stmts   Miss  Cover\n",
      "\n",
      "-------------------------------------\n",
      "\n",
      "testcoverage.py      16      2    88%\n",
      "\n",
      "-------------------------------------\n",
      "\n",
      "TOTAL                16      2    88%\n",
      "\n"
     ]
    }
   ],
   "source": [
    "print('error:', err)\n",
    "print('executable:', executable)\n",
    "print('output:', output)"
   ]
  },
  {
   "cell_type": "code",
   "execution_count": 24,
   "id": "6ea17d89",
   "metadata": {},
   "outputs": [
    {
     "data": {
      "text/plain": [
       "88"
      ]
     },
     "execution_count": 24,
     "metadata": {},
     "output_type": "execute_result"
    }
   ],
   "source": [
    "int(output.split()[-1][:-1])"
   ]
  },
  {
   "cell_type": "code",
   "execution_count": null,
   "id": "be09288c",
   "metadata": {},
   "outputs": [],
   "source": []
  }
 ],
 "metadata": {
  "kernelspec": {
   "display_name": "Python 3 (ipykernel)",
   "language": "python",
   "name": "python3"
  },
  "language_info": {
   "codemirror_mode": {
    "name": "ipython",
    "version": 3
   },
   "file_extension": ".py",
   "mimetype": "text/x-python",
   "name": "python",
   "nbconvert_exporter": "python",
   "pygments_lexer": "ipython3",
   "version": "3.8.16"
  }
 },
 "nbformat": 4,
 "nbformat_minor": 5
}
