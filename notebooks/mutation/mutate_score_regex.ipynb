{
 "cells": [
  {
   "cell_type": "code",
   "execution_count": 1,
   "metadata": {},
   "outputs": [],
   "source": [
    "import re"
   ]
  },
  {
   "cell_type": "code",
   "execution_count": 2,
   "metadata": {},
   "outputs": [],
   "source": [
    "output = '''   - [#  10] BCR sample: [0.11964 s] killed by test_sample.py::test\n",
    "   - [#  11] COI sample: [0.12442 s] killed by test_sample.py::test\n",
    "   - [#  12] COI sample: [0.11963 s] killed by test_sample.py::test\n",
    "   - [#  13] ROR sample: [0.12700 s] killed by test_sample.py::test\n",
    "   - [#  14] ROR sample: [0.12047 s] killed by test_sample.py::test\n",
    "   - [#  15] ROR sample: [0.10142 s] survived\n",
    "[*] Mutation score [2.04829 s]: 93.3%\n",
    "   - all: 15\n",
    "   - killed: 14 (93.3%)\n",
    "   - survived: 1 (6.7%)\n",
    "   - incompetent: 0 (0.0%)\n",
    "   - timeout: 0 (0.0%)'''"
   ]
  },
  {
   "cell_type": "code",
   "execution_count": 10,
   "metadata": {},
   "outputs": [
    {
     "data": {
      "text/plain": [
       "93.3"
      ]
     },
     "execution_count": 10,
     "metadata": {},
     "output_type": "execute_result"
    }
   ],
   "source": [
    "float(re.findall(r'[\\n\\r]*Mutation score.*: [ \\t]*([^\\n\\r]*)', output)[0][:-1])"
   ]
  },
  {
   "cell_type": "code",
   "execution_count": 14,
   "metadata": {},
   "outputs": [
    {
     "name": "stdout",
     "output_type": "stream",
     "text": [
      "    a\n",
      "    a\n",
      "    a\n",
      "    a\n"
     ]
    }
   ],
   "source": [
    "print(\"    \"+\"\\n    \".join(['a','a','a','a']))"
   ]
  },
  {
   "cell_type": "code",
   "execution_count": null,
   "metadata": {},
   "outputs": [],
   "source": []
  }
 ],
 "metadata": {
  "kernelspec": {
   "display_name": "pytrl",
   "language": "python",
   "name": "python3"
  },
  "language_info": {
   "codemirror_mode": {
    "name": "ipython",
    "version": 3
   },
   "file_extension": ".py",
   "mimetype": "text/x-python",
   "name": "python",
   "nbconvert_exporter": "python",
   "pygments_lexer": "ipython3",
   "version": "3.8.16"
  },
  "orig_nbformat": 4
 },
 "nbformat": 4,
 "nbformat_minor": 2
}
