{
 "cells": [
  {
   "cell_type": "code",
   "execution_count": 4,
   "metadata": {},
   "outputs": [
    {
     "name": "stdout",
     "output_type": "stream",
     "text": [
      "100.0\n"
     ]
    }
   ],
   "source": [
    "import json\n",
    "  \n",
    "with open('coverage_2.json', \"r\", encoding = 'utf-8') as f:\n",
    "    data = json.load(f)\n",
    "print(data['totals']['percent_covered'])"
   ]
  },
  {
   "attachments": {},
   "cell_type": "markdown",
   "metadata": {},
   "source": [
    "# microprocess"
   ]
  },
  {
   "cell_type": "code",
   "execution_count": 1,
   "metadata": {},
   "outputs": [],
   "source": [
    "import dis"
   ]
  },
  {
   "cell_type": "code",
   "execution_count": 3,
   "metadata": {},
   "outputs": [],
   "source": [
    "def one_line():\n",
    "    x = 1 if q == 0 else 10\n",
    "def multi_line():\n",
    "    if q == 0:\n",
    "        x = 1\n",
    "    else:\n",
    "        x = 10"
   ]
  },
  {
   "cell_type": "code",
   "execution_count": 4,
   "metadata": {},
   "outputs": [
    {
     "name": "stdout",
     "output_type": "stream",
     "text": [
      "  2           0 LOAD_GLOBAL              0 (q)\n",
      "              2 LOAD_CONST               1 (0)\n",
      "              4 COMPARE_OP               2 (==)\n",
      "              6 POP_JUMP_IF_FALSE       12\n",
      "              8 LOAD_CONST               2 (1)\n",
      "             10 JUMP_FORWARD             2 (to 14)\n",
      "        >>   12 LOAD_CONST               3 (10)\n",
      "        >>   14 STORE_FAST               0 (x)\n",
      "             16 LOAD_CONST               0 (None)\n",
      "             18 RETURN_VALUE\n"
     ]
    }
   ],
   "source": [
    "dis.dis(one_line)"
   ]
  },
  {
   "cell_type": "code",
   "execution_count": 5,
   "metadata": {},
   "outputs": [
    {
     "name": "stdout",
     "output_type": "stream",
     "text": [
      "  4           0 LOAD_GLOBAL              0 (q)\n",
      "              2 LOAD_CONST               1 (0)\n",
      "              4 COMPARE_OP               2 (==)\n",
      "              6 POP_JUMP_IF_FALSE       14\n",
      "\n",
      "  5           8 LOAD_CONST               2 (1)\n",
      "             10 STORE_FAST               0 (x)\n",
      "             12 JUMP_FORWARD             4 (to 18)\n",
      "\n",
      "  7     >>   14 LOAD_CONST               3 (10)\n",
      "             16 STORE_FAST               0 (x)\n",
      "        >>   18 LOAD_CONST               0 (None)\n",
      "             20 RETURN_VALUE\n"
     ]
    }
   ],
   "source": [
    "dis.dis(multi_line)"
   ]
  },
  {
   "attachments": {},
   "cell_type": "markdown",
   "metadata": {},
   "source": [
    "# line_profiler"
   ]
  },
  {
   "cell_type": "code",
   "execution_count": 12,
   "metadata": {},
   "outputs": [],
   "source": [
    "script = '''def binary_search(seq, x):\n",
    "    (a, b) = (0, len(seq) - 1)\n",
    "    while a <= b:\n",
    "        m = (a + b) // 2\n",
    "        if x < seq[m]:\n",
    "            b = m - 1\n",
    "        elif x > seq[m]:\n",
    "            a = m + 1\n",
    "        else:\n",
    "            return m'''"
   ]
  },
  {
   "cell_type": "code",
   "execution_count": 23,
   "metadata": {},
   "outputs": [
    {
     "name": "stdout",
     "output_type": "stream",
     "text": [
      "Timer unit: 1e-09 s\n",
      "\n",
      "Total time: 3.7178e-05 s\n",
      "\n",
      "Could not find file <string>\n",
      "Are you sure you are running this program from the same directory\n",
      "that you ran the profiler from?\n",
      "Continuing without the function's contents.\n",
      "\n",
      "Line #      Hits         Time  Per Hit   % Time  Line Contents\n",
      "==============================================================\n",
      "     1                                           \n",
      "     2                                           \n",
      "     3         1       2878.0   2878.0      7.7  \n",
      "     4         7       8068.0   1152.6     21.7  \n",
      "     5         7       7915.0   1130.7     21.3  \n",
      "     6         5       6774.0   1354.8     18.2  \n",
      "     7         2       1860.0    930.0      5.0  \n",
      "     8         4       5040.0   1260.0     13.6  \n",
      "     9         4       3911.0    977.8     10.5  \n",
      "    10                                           \n",
      "    11         1        732.0    732.0      2.0  \n",
      "\n",
      "\n",
      "11\n"
     ]
    }
   ],
   "source": [
    "import line_profiler\n",
    "import builtins\n",
    "from io import StringIO\n",
    "import re\n",
    "\n",
    "def profile_line(script, function_call, line_number):\n",
    "    prof = line_profiler.LineProfiler()\n",
    "    builtins.__dict__['profile'] = prof\n",
    "    ns = locals()\n",
    "    function_name = function_call[:function_call.index(\"(\")]\n",
    "    rex = re.compile(\"((?ms)^def %s.+)\" % function_name)\n",
    "    script = rex.sub(r\"@profile\\n\\1\\n%s\" % function_call, script)\n",
    "    exec(script, ns, ns)\n",
    "    stream = StringIO()\n",
    "    prof.print_stats(stream)\n",
    "    s = stream.getvalue()\n",
    "    print(s)\n",
    "    stream.close()\n",
    "    return int(re.search(r\"(?m)^\\s*%s\\s*(\\S*)\" % (line_number+1), s).group(1))\n",
    "\n",
    "print(profile_line(script, \"binary_search(range(100), 44)\", 9))"
   ]
  },
  {
   "cell_type": "code",
   "execution_count": 28,
   "metadata": {},
   "outputs": [],
   "source": [
    "import line_profiler"
   ]
  },
  {
   "cell_type": "code",
   "execution_count": 32,
   "metadata": {},
   "outputs": [],
   "source": [
    "def binary_search(seq, x):\n",
    "    (a, b) = (0, len(seq) - 1)\n",
    "    while a <= b:\n",
    "        m = (a + b) // 2\n",
    "        if x < seq[m]:\n",
    "            b = m - 1\n",
    "        elif x > seq[m]:\n",
    "            a = m + 1\n",
    "        else:\n",
    "            return m"
   ]
  },
  {
   "cell_type": "code",
   "execution_count": 34,
   "metadata": {},
   "outputs": [
    {
     "name": "stderr",
     "output_type": "stream",
     "text": [
      "/tmp/ipykernel_1772319/1617647514.py:1: UserWarning: Could not extract a code object for the object 'def binary_search(seq, x):\\n    (a, b) = (0, len(seq) - 1)\\n    while a <= b:\\n        m = (a + b) // 2\\n        if x < seq[m]:\\n            b = m - 1\\n        elif x > seq[m]:\\n            a = m + 1\\n        else:\\n            return m'\n",
      "  prof = line_profiler.LineProfiler(script)\n"
     ]
    },
    {
     "data": {
      "text/plain": [
       "44"
      ]
     },
     "execution_count": 34,
     "metadata": {},
     "output_type": "execute_result"
    }
   ],
   "source": [
    "prof = line_profiler.LineProfiler(script)\n",
    "prof.runcall(binary_search, range(100), 44)"
   ]
  },
  {
   "cell_type": "code",
   "execution_count": null,
   "metadata": {},
   "outputs": [],
   "source": []
  },
  {
   "attachments": {},
   "cell_type": "markdown",
   "metadata": {},
   "source": [
    "# Code_coverage"
   ]
  },
  {
   "cell_type": "code",
   "execution_count": null,
   "metadata": {},
   "outputs": [
    {
     "ename": "NoSource",
     "evalue": "No source for code: '/tmp/ipykernel_1855020/2651187625.py'.",
     "output_type": "error",
     "traceback": [
      "\u001b[0;31m---------------------------------------------------------------------------\u001b[0m",
      "\u001b[0;31mNoSource\u001b[0m                                  Traceback (most recent call last)",
      "Cell \u001b[0;32mIn[1], line 22\u001b[0m\n\u001b[1;32m     19\u001b[0m cov\u001b[39m.\u001b[39mstop()\n\u001b[1;32m     20\u001b[0m cov\u001b[39m.\u001b[39msave()\n\u001b[0;32m---> 22\u001b[0m cov\u001b[39m.\u001b[39;49mreport()\n",
      "File \u001b[0;32m~/.conda/envs/pytrl/lib/python3.8/site-packages/coverage/control.py:1061\u001b[0m, in \u001b[0;36mCoverage.report\u001b[0;34m(self, morfs, show_missing, ignore_errors, file, omit, include, skip_covered, contexts, skip_empty, precision, sort, output_format)\u001b[0m\n\u001b[1;32m   1047\u001b[0m \u001b[39mwith\u001b[39;00m override_config(\n\u001b[1;32m   1048\u001b[0m     \u001b[39mself\u001b[39m,\n\u001b[1;32m   1049\u001b[0m     ignore_errors\u001b[39m=\u001b[39mignore_errors,\n\u001b[0;32m   (...)\u001b[0m\n\u001b[1;32m   1058\u001b[0m     \u001b[39mformat\u001b[39m\u001b[39m=\u001b[39moutput_format,\n\u001b[1;32m   1059\u001b[0m ):\n\u001b[1;32m   1060\u001b[0m     reporter \u001b[39m=\u001b[39m SummaryReporter(\u001b[39mself\u001b[39m)\n\u001b[0;32m-> 1061\u001b[0m     \u001b[39mreturn\u001b[39;00m reporter\u001b[39m.\u001b[39;49mreport(morfs, outfile\u001b[39m=\u001b[39;49mfile)\n",
      "File \u001b[0;32m~/.conda/envs/pytrl/lib/python3.8/site-packages/coverage/report.py:181\u001b[0m, in \u001b[0;36mSummaryReporter.report\u001b[0;34m(self, morfs, outfile)\u001b[0m\n\u001b[1;32m    178\u001b[0m \u001b[39mself\u001b[39m\u001b[39m.\u001b[39moutfile \u001b[39m=\u001b[39m outfile \u001b[39mor\u001b[39;00m sys\u001b[39m.\u001b[39mstdout\n\u001b[1;32m    180\u001b[0m \u001b[39mself\u001b[39m\u001b[39m.\u001b[39mcoverage\u001b[39m.\u001b[39mget_data()\u001b[39m.\u001b[39mset_query_contexts(\u001b[39mself\u001b[39m\u001b[39m.\u001b[39mconfig\u001b[39m.\u001b[39mreport_contexts)\n\u001b[0;32m--> 181\u001b[0m \u001b[39mfor\u001b[39;00m fr, analysis \u001b[39min\u001b[39;00m get_analysis_to_report(\u001b[39mself\u001b[39m\u001b[39m.\u001b[39mcoverage, morfs):\n\u001b[1;32m    182\u001b[0m     \u001b[39mself\u001b[39m\u001b[39m.\u001b[39mreport_one_file(fr, analysis)\n\u001b[1;32m    184\u001b[0m \u001b[39mif\u001b[39;00m \u001b[39mnot\u001b[39;00m \u001b[39mself\u001b[39m\u001b[39m.\u001b[39mtotal\u001b[39m.\u001b[39mn_files \u001b[39mand\u001b[39;00m \u001b[39mnot\u001b[39;00m \u001b[39mself\u001b[39m\u001b[39m.\u001b[39mskipped_count:\n",
      "File \u001b[0;32m~/.conda/envs/pytrl/lib/python3.8/site-packages/coverage/report_core.py:98\u001b[0m, in \u001b[0;36mget_analysis_to_report\u001b[0;34m(coverage, morfs)\u001b[0m\n\u001b[1;32m     96\u001b[0m \u001b[39mfor\u001b[39;00m fr \u001b[39min\u001b[39;00m \u001b[39msorted\u001b[39m(file_reporters):\n\u001b[1;32m     97\u001b[0m     \u001b[39mtry\u001b[39;00m:\n\u001b[0;32m---> 98\u001b[0m         analysis \u001b[39m=\u001b[39m coverage\u001b[39m.\u001b[39;49m_analyze(fr)\n\u001b[1;32m     99\u001b[0m     \u001b[39mexcept\u001b[39;00m NotPython:\n\u001b[1;32m    100\u001b[0m         \u001b[39m# Only report errors for .py files, and only if we didn't\u001b[39;00m\n\u001b[1;32m    101\u001b[0m         \u001b[39m# explicitly suppress those errors.\u001b[39;00m\n\u001b[1;32m    102\u001b[0m         \u001b[39m# NotPython is only raised by PythonFileReporter, which has a\u001b[39;00m\n\u001b[1;32m    103\u001b[0m         \u001b[39m# should_be_python() method.\u001b[39;00m\n\u001b[1;32m    104\u001b[0m         \u001b[39mif\u001b[39;00m fr\u001b[39m.\u001b[39mshould_be_python():       \u001b[39m# type: ignore[attr-defined]\u001b[39;00m\n",
      "File \u001b[0;32m~/.conda/envs/pytrl/lib/python3.8/site-packages/coverage/control.py:922\u001b[0m, in \u001b[0;36mCoverage._analyze\u001b[0;34m(self, it)\u001b[0m\n\u001b[1;32m    919\u001b[0m \u001b[39melse\u001b[39;00m:\n\u001b[1;32m    920\u001b[0m     fr \u001b[39m=\u001b[39m \u001b[39mself\u001b[39m\u001b[39m.\u001b[39m_get_file_reporter(it)\n\u001b[0;32m--> 922\u001b[0m \u001b[39mreturn\u001b[39;00m Analysis(data, \u001b[39mself\u001b[39;49m\u001b[39m.\u001b[39;49mconfig\u001b[39m.\u001b[39;49mprecision, fr, \u001b[39mself\u001b[39;49m\u001b[39m.\u001b[39;49m_file_mapper)\n",
      "File \u001b[0;32m~/.conda/envs/pytrl/lib/python3.8/site-packages/coverage/results.py:35\u001b[0m, in \u001b[0;36mAnalysis.__init__\u001b[0;34m(self, data, precision, file_reporter, file_mapper)\u001b[0m\n\u001b[1;32m     33\u001b[0m \u001b[39mself\u001b[39m\u001b[39m.\u001b[39mfile_reporter \u001b[39m=\u001b[39m file_reporter\n\u001b[1;32m     34\u001b[0m \u001b[39mself\u001b[39m\u001b[39m.\u001b[39mfilename \u001b[39m=\u001b[39m file_mapper(\u001b[39mself\u001b[39m\u001b[39m.\u001b[39mfile_reporter\u001b[39m.\u001b[39mfilename)\n\u001b[0;32m---> 35\u001b[0m \u001b[39mself\u001b[39m\u001b[39m.\u001b[39mstatements \u001b[39m=\u001b[39m \u001b[39mself\u001b[39;49m\u001b[39m.\u001b[39;49mfile_reporter\u001b[39m.\u001b[39;49mlines()\n\u001b[1;32m     36\u001b[0m \u001b[39mself\u001b[39m\u001b[39m.\u001b[39mexcluded \u001b[39m=\u001b[39m \u001b[39mself\u001b[39m\u001b[39m.\u001b[39mfile_reporter\u001b[39m.\u001b[39mexcluded_lines()\n\u001b[1;32m     38\u001b[0m \u001b[39m# Identify missing statements.\u001b[39;00m\n",
      "File \u001b[0;32m~/.conda/envs/pytrl/lib/python3.8/site-packages/coverage/python.py:193\u001b[0m, in \u001b[0;36mPythonFileReporter.lines\u001b[0;34m(self)\u001b[0m\n\u001b[1;32m    191\u001b[0m \u001b[39mdef\u001b[39;00m \u001b[39mlines\u001b[39m(\u001b[39mself\u001b[39m) \u001b[39m-\u001b[39m\u001b[39m>\u001b[39m Set[TLineNo]:\n\u001b[1;32m    192\u001b[0m \u001b[39m    \u001b[39m\u001b[39m\"\"\"Return the line numbers of statements in the file.\"\"\"\u001b[39;00m\n\u001b[0;32m--> 193\u001b[0m     \u001b[39mreturn\u001b[39;00m \u001b[39mself\u001b[39;49m\u001b[39m.\u001b[39;49mparser\u001b[39m.\u001b[39mstatements\n",
      "File \u001b[0;32m~/.conda/envs/pytrl/lib/python3.8/site-packages/coverage/python.py:184\u001b[0m, in \u001b[0;36mPythonFileReporter.parser\u001b[0;34m(self)\u001b[0m\n\u001b[1;32m    182\u001b[0m \u001b[39massert\u001b[39;00m \u001b[39mself\u001b[39m\u001b[39m.\u001b[39mcoverage \u001b[39mis\u001b[39;00m \u001b[39mnot\u001b[39;00m \u001b[39mNone\u001b[39;00m\n\u001b[1;32m    183\u001b[0m \u001b[39mif\u001b[39;00m \u001b[39mself\u001b[39m\u001b[39m.\u001b[39m_parser \u001b[39mis\u001b[39;00m \u001b[39mNone\u001b[39;00m:\n\u001b[0;32m--> 184\u001b[0m     \u001b[39mself\u001b[39m\u001b[39m.\u001b[39m_parser \u001b[39m=\u001b[39m PythonParser(\n\u001b[1;32m    185\u001b[0m         filename\u001b[39m=\u001b[39;49m\u001b[39mself\u001b[39;49m\u001b[39m.\u001b[39;49mfilename,\n\u001b[1;32m    186\u001b[0m         exclude\u001b[39m=\u001b[39;49m\u001b[39mself\u001b[39;49m\u001b[39m.\u001b[39;49mcoverage\u001b[39m.\u001b[39;49m_exclude_regex(\u001b[39m\"\u001b[39;49m\u001b[39mexclude\u001b[39;49m\u001b[39m\"\u001b[39;49m),\n\u001b[1;32m    187\u001b[0m     )\n\u001b[1;32m    188\u001b[0m     \u001b[39mself\u001b[39m\u001b[39m.\u001b[39m_parser\u001b[39m.\u001b[39mparse_source()\n\u001b[1;32m    189\u001b[0m \u001b[39mreturn\u001b[39;00m \u001b[39mself\u001b[39m\u001b[39m.\u001b[39m_parser\n",
      "File \u001b[0;32m~/.conda/envs/pytrl/lib/python3.8/site-packages/coverage/parser.py:56\u001b[0m, in \u001b[0;36mPythonParser.__init__\u001b[0;34m(self, text, filename, exclude)\u001b[0m\n\u001b[1;32m     54\u001b[0m \u001b[39mfrom\u001b[39;00m \u001b[39mcoverage\u001b[39;00m\u001b[39m.\u001b[39;00m\u001b[39mpython\u001b[39;00m \u001b[39mimport\u001b[39;00m get_python_source\n\u001b[1;32m     55\u001b[0m \u001b[39mtry\u001b[39;00m:\n\u001b[0;32m---> 56\u001b[0m     \u001b[39mself\u001b[39m\u001b[39m.\u001b[39mtext \u001b[39m=\u001b[39m get_python_source(\u001b[39mself\u001b[39;49m\u001b[39m.\u001b[39;49mfilename)\n\u001b[1;32m     57\u001b[0m \u001b[39mexcept\u001b[39;00m \u001b[39mOSError\u001b[39;00m \u001b[39mas\u001b[39;00m err:\n\u001b[1;32m     58\u001b[0m     \u001b[39mraise\u001b[39;00m NoSource(\u001b[39mf\u001b[39m\u001b[39m\"\u001b[39m\u001b[39mNo source for code: \u001b[39m\u001b[39m'\u001b[39m\u001b[39m{\u001b[39;00m\u001b[39mself\u001b[39m\u001b[39m.\u001b[39mfilename\u001b[39m}\u001b[39;00m\u001b[39m'\u001b[39m\u001b[39m: \u001b[39m\u001b[39m{\u001b[39;00merr\u001b[39m}\u001b[39;00m\u001b[39m\"\u001b[39m) \u001b[39mfrom\u001b[39;00m \u001b[39merr\u001b[39;00m\n",
      "File \u001b[0;32m~/.conda/envs/pytrl/lib/python3.8/site-packages/coverage/python.py:63\u001b[0m, in \u001b[0;36mget_python_source\u001b[0;34m(filename)\u001b[0m\n\u001b[1;32m     60\u001b[0m         \u001b[39mbreak\u001b[39;00m\n\u001b[1;32m     61\u001b[0m \u001b[39melse\u001b[39;00m:\n\u001b[1;32m     62\u001b[0m     \u001b[39m# Couldn't find source.\u001b[39;00m\n\u001b[0;32m---> 63\u001b[0m     \u001b[39mraise\u001b[39;00m NoSource(\u001b[39mf\u001b[39m\u001b[39m\"\u001b[39m\u001b[39mNo source for code: \u001b[39m\u001b[39m'\u001b[39m\u001b[39m{\u001b[39;00mfilename\u001b[39m}\u001b[39;00m\u001b[39m'\u001b[39m\u001b[39m.\u001b[39m\u001b[39m\"\u001b[39m)\n\u001b[1;32m     65\u001b[0m \u001b[39m# Replace \\f because of http://bugs.python.org/issue19035\u001b[39;00m\n\u001b[1;32m     66\u001b[0m source_bytes \u001b[39m=\u001b[39m source_bytes\u001b[39m.\u001b[39mreplace(\u001b[39mb\u001b[39m\u001b[39m\"\u001b[39m\u001b[39m\\f\u001b[39;00m\u001b[39m\"\u001b[39m, \u001b[39mb\u001b[39m\u001b[39m\"\u001b[39m\u001b[39m \u001b[39m\u001b[39m\"\u001b[39m)\n",
      "\u001b[0;31mNoSource\u001b[0m: No source for code: '/tmp/ipykernel_1855020/2651187625.py'."
     ]
    }
   ],
   "source": [
    "import coverage\n",
    "\n",
    "cov = coverage.Coverage()\n",
    "cov.start()\n",
    "\n",
    "# .. call your code ..\n",
    "def binary_search(seq, x):\n",
    "    (a, b) = (0, len(seq) - 1)\n",
    "    while a <= b:\n",
    "        m = (a + b) // 2\n",
    "        if x < seq[m]:\n",
    "            b = m - 1\n",
    "        elif x > seq[m]:\n",
    "            a = m + 1\n",
    "        else:\n",
    "            return m\n",
    "assert binary_search(range(100), 44) == 44\n",
    "\n",
    "cov.stop()\n",
    "cov.save()\n",
    "\n",
    "cov.report()"
   ]
  },
  {
   "cell_type": "code",
   "execution_count": 2,
   "metadata": {},
   "outputs": [
    {
     "ename": "NoSource",
     "evalue": "No source for code: '/tmp/ipykernel_1855020/2546817341.py'.",
     "output_type": "error",
     "traceback": [
      "\u001b[0;31m---------------------------------------------------------------------------\u001b[0m",
      "\u001b[0;31mNoSource\u001b[0m                                  Traceback (most recent call last)",
      "Cell \u001b[0;32mIn[2], line 14\u001b[0m\n\u001b[1;32m     11\u001b[0m cov\u001b[39m.\u001b[39mstop()\n\u001b[1;32m     12\u001b[0m cov\u001b[39m.\u001b[39msave()\n\u001b[0;32m---> 14\u001b[0m cov\u001b[39m.\u001b[39;49mhtml_report(directory\u001b[39m=\u001b[39;49m\u001b[39m'\u001b[39;49m\u001b[39mcovhtml\u001b[39;49m\u001b[39m'\u001b[39;49m)\n",
      "File \u001b[0;32m~/.conda/envs/pytrl/lib/python3.8/site-packages/coverage/control.py:1157\u001b[0m, in \u001b[0;36mCoverage.html_report\u001b[0;34m(self, morfs, directory, ignore_errors, omit, include, extra_css, title, skip_covered, show_contexts, contexts, skip_empty, precision)\u001b[0m\n\u001b[1;32m   1142\u001b[0m \u001b[39mwith\u001b[39;00m override_config(\n\u001b[1;32m   1143\u001b[0m     \u001b[39mself\u001b[39m,\n\u001b[1;32m   1144\u001b[0m     ignore_errors\u001b[39m=\u001b[39mignore_errors,\n\u001b[0;32m   (...)\u001b[0m\n\u001b[1;32m   1154\u001b[0m     precision\u001b[39m=\u001b[39mprecision,\n\u001b[1;32m   1155\u001b[0m ):\n\u001b[1;32m   1156\u001b[0m     reporter \u001b[39m=\u001b[39m HtmlReporter(\u001b[39mself\u001b[39m)\n\u001b[0;32m-> 1157\u001b[0m     ret \u001b[39m=\u001b[39m reporter\u001b[39m.\u001b[39;49mreport(morfs)\n\u001b[1;32m   1158\u001b[0m     \u001b[39mreturn\u001b[39;00m ret\n",
      "File \u001b[0;32m~/.conda/envs/pytrl/lib/python3.8/site-packages/coverage/html.py:296\u001b[0m, in \u001b[0;36mHtmlReporter.report\u001b[0;34m(self, morfs)\u001b[0m\n\u001b[1;32m    292\u001b[0m \u001b[39m# Process all the files. For each page we need to supply a link\u001b[39;00m\n\u001b[1;32m    293\u001b[0m \u001b[39m# to the next and previous page.\u001b[39;00m\n\u001b[1;32m    294\u001b[0m files_to_report \u001b[39m=\u001b[39m []\n\u001b[0;32m--> 296\u001b[0m \u001b[39mfor\u001b[39;00m fr, analysis \u001b[39min\u001b[39;00m get_analysis_to_report(\u001b[39mself\u001b[39m\u001b[39m.\u001b[39mcoverage, morfs):\n\u001b[1;32m    297\u001b[0m     ftr \u001b[39m=\u001b[39m FileToReport(fr, analysis)\n\u001b[1;32m    298\u001b[0m     should \u001b[39m=\u001b[39m \u001b[39mself\u001b[39m\u001b[39m.\u001b[39mshould_report_file(ftr)\n",
      "File \u001b[0;32m~/.conda/envs/pytrl/lib/python3.8/site-packages/coverage/report_core.py:98\u001b[0m, in \u001b[0;36mget_analysis_to_report\u001b[0;34m(coverage, morfs)\u001b[0m\n\u001b[1;32m     96\u001b[0m \u001b[39mfor\u001b[39;00m fr \u001b[39min\u001b[39;00m \u001b[39msorted\u001b[39m(file_reporters):\n\u001b[1;32m     97\u001b[0m     \u001b[39mtry\u001b[39;00m:\n\u001b[0;32m---> 98\u001b[0m         analysis \u001b[39m=\u001b[39m coverage\u001b[39m.\u001b[39;49m_analyze(fr)\n\u001b[1;32m     99\u001b[0m     \u001b[39mexcept\u001b[39;00m NotPython:\n\u001b[1;32m    100\u001b[0m         \u001b[39m# Only report errors for .py files, and only if we didn't\u001b[39;00m\n\u001b[1;32m    101\u001b[0m         \u001b[39m# explicitly suppress those errors.\u001b[39;00m\n\u001b[1;32m    102\u001b[0m         \u001b[39m# NotPython is only raised by PythonFileReporter, which has a\u001b[39;00m\n\u001b[1;32m    103\u001b[0m         \u001b[39m# should_be_python() method.\u001b[39;00m\n\u001b[1;32m    104\u001b[0m         \u001b[39mif\u001b[39;00m fr\u001b[39m.\u001b[39mshould_be_python():       \u001b[39m# type: ignore[attr-defined]\u001b[39;00m\n",
      "File \u001b[0;32m~/.conda/envs/pytrl/lib/python3.8/site-packages/coverage/control.py:922\u001b[0m, in \u001b[0;36mCoverage._analyze\u001b[0;34m(self, it)\u001b[0m\n\u001b[1;32m    919\u001b[0m \u001b[39melse\u001b[39;00m:\n\u001b[1;32m    920\u001b[0m     fr \u001b[39m=\u001b[39m \u001b[39mself\u001b[39m\u001b[39m.\u001b[39m_get_file_reporter(it)\n\u001b[0;32m--> 922\u001b[0m \u001b[39mreturn\u001b[39;00m Analysis(data, \u001b[39mself\u001b[39;49m\u001b[39m.\u001b[39;49mconfig\u001b[39m.\u001b[39;49mprecision, fr, \u001b[39mself\u001b[39;49m\u001b[39m.\u001b[39;49m_file_mapper)\n",
      "File \u001b[0;32m~/.conda/envs/pytrl/lib/python3.8/site-packages/coverage/results.py:35\u001b[0m, in \u001b[0;36mAnalysis.__init__\u001b[0;34m(self, data, precision, file_reporter, file_mapper)\u001b[0m\n\u001b[1;32m     33\u001b[0m \u001b[39mself\u001b[39m\u001b[39m.\u001b[39mfile_reporter \u001b[39m=\u001b[39m file_reporter\n\u001b[1;32m     34\u001b[0m \u001b[39mself\u001b[39m\u001b[39m.\u001b[39mfilename \u001b[39m=\u001b[39m file_mapper(\u001b[39mself\u001b[39m\u001b[39m.\u001b[39mfile_reporter\u001b[39m.\u001b[39mfilename)\n\u001b[0;32m---> 35\u001b[0m \u001b[39mself\u001b[39m\u001b[39m.\u001b[39mstatements \u001b[39m=\u001b[39m \u001b[39mself\u001b[39;49m\u001b[39m.\u001b[39;49mfile_reporter\u001b[39m.\u001b[39;49mlines()\n\u001b[1;32m     36\u001b[0m \u001b[39mself\u001b[39m\u001b[39m.\u001b[39mexcluded \u001b[39m=\u001b[39m \u001b[39mself\u001b[39m\u001b[39m.\u001b[39mfile_reporter\u001b[39m.\u001b[39mexcluded_lines()\n\u001b[1;32m     38\u001b[0m \u001b[39m# Identify missing statements.\u001b[39;00m\n",
      "File \u001b[0;32m~/.conda/envs/pytrl/lib/python3.8/site-packages/coverage/python.py:193\u001b[0m, in \u001b[0;36mPythonFileReporter.lines\u001b[0;34m(self)\u001b[0m\n\u001b[1;32m    191\u001b[0m \u001b[39mdef\u001b[39;00m \u001b[39mlines\u001b[39m(\u001b[39mself\u001b[39m) \u001b[39m-\u001b[39m\u001b[39m>\u001b[39m Set[TLineNo]:\n\u001b[1;32m    192\u001b[0m \u001b[39m    \u001b[39m\u001b[39m\"\"\"Return the line numbers of statements in the file.\"\"\"\u001b[39;00m\n\u001b[0;32m--> 193\u001b[0m     \u001b[39mreturn\u001b[39;00m \u001b[39mself\u001b[39;49m\u001b[39m.\u001b[39;49mparser\u001b[39m.\u001b[39mstatements\n",
      "File \u001b[0;32m~/.conda/envs/pytrl/lib/python3.8/site-packages/coverage/python.py:184\u001b[0m, in \u001b[0;36mPythonFileReporter.parser\u001b[0;34m(self)\u001b[0m\n\u001b[1;32m    182\u001b[0m \u001b[39massert\u001b[39;00m \u001b[39mself\u001b[39m\u001b[39m.\u001b[39mcoverage \u001b[39mis\u001b[39;00m \u001b[39mnot\u001b[39;00m \u001b[39mNone\u001b[39;00m\n\u001b[1;32m    183\u001b[0m \u001b[39mif\u001b[39;00m \u001b[39mself\u001b[39m\u001b[39m.\u001b[39m_parser \u001b[39mis\u001b[39;00m \u001b[39mNone\u001b[39;00m:\n\u001b[0;32m--> 184\u001b[0m     \u001b[39mself\u001b[39m\u001b[39m.\u001b[39m_parser \u001b[39m=\u001b[39m PythonParser(\n\u001b[1;32m    185\u001b[0m         filename\u001b[39m=\u001b[39;49m\u001b[39mself\u001b[39;49m\u001b[39m.\u001b[39;49mfilename,\n\u001b[1;32m    186\u001b[0m         exclude\u001b[39m=\u001b[39;49m\u001b[39mself\u001b[39;49m\u001b[39m.\u001b[39;49mcoverage\u001b[39m.\u001b[39;49m_exclude_regex(\u001b[39m\"\u001b[39;49m\u001b[39mexclude\u001b[39;49m\u001b[39m\"\u001b[39;49m),\n\u001b[1;32m    187\u001b[0m     )\n\u001b[1;32m    188\u001b[0m     \u001b[39mself\u001b[39m\u001b[39m.\u001b[39m_parser\u001b[39m.\u001b[39mparse_source()\n\u001b[1;32m    189\u001b[0m \u001b[39mreturn\u001b[39;00m \u001b[39mself\u001b[39m\u001b[39m.\u001b[39m_parser\n",
      "File \u001b[0;32m~/.conda/envs/pytrl/lib/python3.8/site-packages/coverage/parser.py:56\u001b[0m, in \u001b[0;36mPythonParser.__init__\u001b[0;34m(self, text, filename, exclude)\u001b[0m\n\u001b[1;32m     54\u001b[0m \u001b[39mfrom\u001b[39;00m \u001b[39mcoverage\u001b[39;00m\u001b[39m.\u001b[39;00m\u001b[39mpython\u001b[39;00m \u001b[39mimport\u001b[39;00m get_python_source\n\u001b[1;32m     55\u001b[0m \u001b[39mtry\u001b[39;00m:\n\u001b[0;32m---> 56\u001b[0m     \u001b[39mself\u001b[39m\u001b[39m.\u001b[39mtext \u001b[39m=\u001b[39m get_python_source(\u001b[39mself\u001b[39;49m\u001b[39m.\u001b[39;49mfilename)\n\u001b[1;32m     57\u001b[0m \u001b[39mexcept\u001b[39;00m \u001b[39mOSError\u001b[39;00m \u001b[39mas\u001b[39;00m err:\n\u001b[1;32m     58\u001b[0m     \u001b[39mraise\u001b[39;00m NoSource(\u001b[39mf\u001b[39m\u001b[39m\"\u001b[39m\u001b[39mNo source for code: \u001b[39m\u001b[39m'\u001b[39m\u001b[39m{\u001b[39;00m\u001b[39mself\u001b[39m\u001b[39m.\u001b[39mfilename\u001b[39m}\u001b[39;00m\u001b[39m'\u001b[39m\u001b[39m: \u001b[39m\u001b[39m{\u001b[39;00merr\u001b[39m}\u001b[39;00m\u001b[39m\"\u001b[39m) \u001b[39mfrom\u001b[39;00m \u001b[39merr\u001b[39;00m\n",
      "File \u001b[0;32m~/.conda/envs/pytrl/lib/python3.8/site-packages/coverage/python.py:63\u001b[0m, in \u001b[0;36mget_python_source\u001b[0;34m(filename)\u001b[0m\n\u001b[1;32m     60\u001b[0m         \u001b[39mbreak\u001b[39;00m\n\u001b[1;32m     61\u001b[0m \u001b[39melse\u001b[39;00m:\n\u001b[1;32m     62\u001b[0m     \u001b[39m# Couldn't find source.\u001b[39;00m\n\u001b[0;32m---> 63\u001b[0m     \u001b[39mraise\u001b[39;00m NoSource(\u001b[39mf\u001b[39m\u001b[39m\"\u001b[39m\u001b[39mNo source for code: \u001b[39m\u001b[39m'\u001b[39m\u001b[39m{\u001b[39;00mfilename\u001b[39m}\u001b[39;00m\u001b[39m'\u001b[39m\u001b[39m.\u001b[39m\u001b[39m\"\u001b[39m)\n\u001b[1;32m     65\u001b[0m \u001b[39m# Replace \\f because of http://bugs.python.org/issue19035\u001b[39;00m\n\u001b[1;32m     66\u001b[0m source_bytes \u001b[39m=\u001b[39m source_bytes\u001b[39m.\u001b[39mreplace(\u001b[39mb\u001b[39m\u001b[39m\"\u001b[39m\u001b[39m\\f\u001b[39;00m\u001b[39m\"\u001b[39m, \u001b[39mb\u001b[39m\u001b[39m\"\u001b[39m\u001b[39m \u001b[39m\u001b[39m\"\u001b[39m)\n",
      "\u001b[0;31mNoSource\u001b[0m: No source for code: '/tmp/ipykernel_1855020/2546817341.py'."
     ]
    }
   ],
   "source": [
    "import coverage\n",
    "\n",
    "def test_it(x):\n",
    "    return x + 1\n",
    "\n",
    "cov = coverage.Coverage()\n",
    "cov.start()\n",
    "\n",
    "test_it(123)\n",
    "\n",
    "cov.stop()\n",
    "cov.save()\n",
    "\n",
    "cov.html_report(directory='covhtml')"
   ]
  },
  {
   "attachments": {},
   "cell_type": "markdown",
   "metadata": {},
   "source": [
    "# Unittest"
   ]
  },
  {
   "cell_type": "code",
   "execution_count": 50,
   "metadata": {},
   "outputs": [
    {
     "name": "stderr",
     "output_type": "stream",
     "text": [
      "test_isupper (__main__.TestStringMethods) ... ok\n",
      "test_split (__main__.TestStringMethods) ... ok\n",
      "test_upper (__main__.TestStringMethods) ... ok\n",
      "\n",
      "----------------------------------------------------------------------\n",
      "Ran 3 tests in 0.004s\n",
      "\n",
      "OK\n"
     ]
    },
    {
     "data": {
      "text/plain": [
       "<unittest.main.TestProgram at 0x7ff07de31b50>"
      ]
     },
     "execution_count": 50,
     "metadata": {},
     "output_type": "execute_result"
    }
   ],
   "source": [
    "import unittest\n",
    "\n",
    "class TestStringMethods(unittest.TestCase):\n",
    "    def test_upper(self):\n",
    "        self.assertEqual('foo'.upper(), 'FOO')\n",
    "\n",
    "    def test_isupper(self):\n",
    "        self.assertTrue('FOO'.isupper())\n",
    "        self.assertFalse('Foo'.isupper())\n",
    "\n",
    "    def test_split(self):\n",
    "        s = 'hello world'\n",
    "        self.assertEqual(s.split(), ['hello', 'world'])\n",
    "        # check that s.split fails when the separator is not a string\n",
    "        with self.assertRaises(TypeError):\n",
    "            s.split(2)\n",
    "\n",
    "unittest.main(argv=['ignored', '-v'], exit=False)"
   ]
  },
  {
   "cell_type": "code",
   "execution_count": null,
   "metadata": {},
   "outputs": [],
   "source": []
  }
 ],
 "metadata": {
  "kernelspec": {
   "display_name": "novel_pt",
   "language": "python",
   "name": "python3"
  },
  "language_info": {
   "codemirror_mode": {
    "name": "ipython",
    "version": 3
   },
   "file_extension": ".py",
   "mimetype": "text/x-python",
   "name": "python",
   "nbconvert_exporter": "python",
   "pygments_lexer": "ipython3",
   "version": "3.8.16"
  },
  "orig_nbformat": 4
 },
 "nbformat": 4,
 "nbformat_minor": 2
}
